{
 "cells": [
  {
   "cell_type": "markdown",
   "metadata": {},
   "source": [
    "# mDOM Pin Verification"
   ]
  },
  {
   "cell_type": "markdown",
   "metadata": {},
   "source": [
    "### First, I will parse pin information from the Xilinx file here: https://www.xilinx.com/support/packagefiles/s7packages/xc7s100fgga676pkg.txt\n",
    "\n",
    "### The xc7s100fgga676 is the FPGA used on the mDOM mainboard."
   ]
  },
  {
   "cell_type": "code",
   "execution_count": 1,
   "metadata": {},
   "outputs": [],
   "source": [
    "import urllib"
   ]
  },
  {
   "cell_type": "code",
   "execution_count": 2,
   "metadata": {},
   "outputs": [],
   "source": [
    "headers = ['Pin',\n",
    "           'Pin Name',\n",
    "           'Memory Byte Group',\n",
    "           'Bank',\n",
    "           'VCCAUX Group',\n",
    "           'Super Logic Region',\n",
    "           'I/O Type',\n",
    "           'No-Connect']\n",
    "\n",
    "def parse_pin_file(file):\n",
    "    '''returns a dict of pin dictionaries\n",
    "    the key is the pin name\n",
    "    '''\n",
    "    for line in file:\n",
    "        spl = line.decode().split()\n",
    "        try:\n",
    "            if spl[0] == 'Pin':\n",
    "                break\n",
    "        except IndexError:\n",
    "            pass\n",
    "\n",
    "\n",
    "    pins = {}\n",
    "    for line in file:\n",
    "        spl = line.decode().split()\n",
    "        try:\n",
    "            pin = {header: spl[i+1] for i, header in enumerate(headers[1:])}\n",
    "        except IndexError:\n",
    "            continue\n",
    "        pins[spl[0]] = pin\n",
    "\n",
    "    return pins"
   ]
  },
  {
   "cell_type": "markdown",
   "metadata": {},
   "source": [
    "### Here I record bank voltage levels from the schematic located here:\n",
    "https://www-zeuthen.desy.de/~sulanke/Projects/ICECUBE/mDOM/mainboard/schematic/mDOM_mb_1.pdf "
   ]
  },
  {
   "cell_type": "code",
   "execution_count": 3,
   "metadata": {},
   "outputs": [],
   "source": [
    "bank_Vs = {0: 1.8, 13: 1.8, 14: 1.8, 15: 1.8, 16: 1.8, 33: 1.35, 34: 1.35, 35: 1.8, 36: 3.3}"
   ]
  },
  {
   "cell_type": "code",
   "execution_count": 4,
   "metadata": {},
   "outputs": [],
   "source": [
    "with urllib.request.urlopen('https://www.xilinx.com/support/packagefiles/s7packages/xc7s100fgga676pkg.txt') as f:\n",
    "    pins = parse_pin_file(f)"
   ]
  },
  {
   "cell_type": "code",
   "execution_count": 5,
   "metadata": {},
   "outputs": [
    {
     "name": "stdout",
     "output_type": "stream",
     "text": [
      "{'Pin Name': 'DONE_0', 'Memory Byte Group': 'NA', 'Bank': '0', 'VCCAUX Group': 'NA', 'Super Logic Region': 'NA', 'I/O Type': 'CONFIG', 'No-Connect': 'NA'}\n",
      "{'Pin Name': 'DXP_0', 'Memory Byte Group': 'NA', 'Bank': '0', 'VCCAUX Group': 'NA', 'Super Logic Region': 'NA', 'I/O Type': 'CONFIG', 'No-Connect': 'NA'}\n"
     ]
    }
   ],
   "source": [
    "print(pins['AC14'])\n",
    "print(pins['R14'])"
   ]
  },
  {
   "cell_type": "markdown",
   "metadata": {},
   "source": [
    "### Now I will parse the XDC file that Kalle sent me, which specifies the pin assignments."
   ]
  },
  {
   "cell_type": "code",
   "execution_count": 6,
   "metadata": {},
   "outputs": [
    {
     "ename": "SyntaxError",
     "evalue": "invalid syntax (<ipython-input-6-ccd54b26678c>, line 26)",
     "output_type": "error",
     "traceback": [
      "\u001b[0;36m  File \u001b[0;32m\"<ipython-input-6-ccd54b26678c>\"\u001b[0;36m, line \u001b[0;32m26\u001b[0m\n\u001b[0;31m    differwntia l&= not port.endswith('TRIG_IN')\u001b[0m\n\u001b[0m                ^\u001b[0m\n\u001b[0;31mSyntaxError\u001b[0m\u001b[0;31m:\u001b[0m invalid syntax\n"
     ]
    }
   ],
   "source": [
    "def parse_xdc_file(file):\n",
    "    '''returns a list of pin dictionaries\n",
    "    '''\n",
    "\n",
    "    pins = []\n",
    "\n",
    "    for line in file:\n",
    "        spl = line.split()\n",
    "        pin_dict = {}\n",
    "        for i, word in enumerate(spl):\n",
    "            if word == 'PACKAGE_PIN':\n",
    "                pin_dict['Pin'] = spl[i+1]\n",
    "            elif word == '[get_ports':\n",
    "                port = spl[i+1].replace('{', '').replace('}','').replace(']', '')\n",
    "                differential = port.endswith('P') or port.endswith('M') or port.endswith('N')\n",
    "                \n",
    "                # ports ending with \"SEN\" or \"DIN\" end with N but are not differential...\n",
    "                # More standardized port names (e.g. _N/_M) would help here.\n",
    "                differential &= not port.endswith('SEN')\n",
    "                differential &= not port.endswith('DIN')\n",
    "                \n",
    "                # same with LDM, UDM\n",
    "                differential &= not port.endswith('LDM')\n",
    "                differential &= not port.endswith('UDM')\n",
    "                \n",
    "                differential &= not port.endswith('TRIG_IN')\n",
    "                \n",
    "                pin_dict['Port'] = port\n",
    "                pin_dict['Differential'] = differential\n",
    "\n",
    "        pins.append(pin_dict)\n",
    "\n",
    "    return pins"
   ]
  },
  {
   "cell_type": "code",
   "execution_count": null,
   "metadata": {},
   "outputs": [],
   "source": [
    "with open('mDOM_mb_1_jun29.xdc') as f:\n",
    "    ports = parse_xdc_file(f)"
   ]
  },
  {
   "cell_type": "code",
   "execution_count": null,
   "metadata": {},
   "outputs": [],
   "source": [
    "print(ports[0])\n",
    "print(ports[-1])"
   ]
  },
  {
   "cell_type": "markdown",
   "metadata": {},
   "source": [
    "### I will now sort ports into their banks, keeping differential and single-ended IO separate"
   ]
  },
  {
   "cell_type": "code",
   "execution_count": null,
   "metadata": {},
   "outputs": [],
   "source": [
    "banks = {f'{bank}': {'differential_pins': [], 'single_ended_pins': []} for bank in bank_Vs}\n",
    "for port in ports:\n",
    "    pin = pins[port['Pin']]\n",
    "    # merge pin and port dicts\n",
    "    for key, val in port.items():\n",
    "        pin[key] = val\n",
    "    \n",
    "    bank_dict = banks.setdefault(pin['Bank'], )\n",
    "    if port['Differential']:\n",
    "        bank_dict['differential_pins'].append(pin)\n",
    "    else:\n",
    "        bank_dict['single_ended_pins'].append(pin)"
   ]
  },
  {
   "cell_type": "markdown",
   "metadata": {},
   "source": [
    "### Display pins organized by bank and by differential / single-ended"
   ]
  },
  {
   "cell_type": "code",
   "execution_count": null,
   "metadata": {},
   "outputs": [],
   "source": [
    "from IPython.display import display, Markdown, Latex"
   ]
  },
  {
   "cell_type": "code",
   "execution_count": null,
   "metadata": {},
   "outputs": [],
   "source": [
    "display(Markdown(f'## Single-ended ports'))\n",
    "for bank_name, pins in banks.items():\n",
    "    display(Markdown(f'### Bank {bank_name}, {bank_Vs[int(bank_name)]}V'))\n",
    "    \n",
    "    single_ended = pins['single_ended_pins']\n",
    "    single_ended = sorted(single_ended, key=lambda x: x['Pin'])\n",
    "    \n",
    "    for pin in single_ended:        \n",
    "        display(Markdown(f'**{pin[\"Pin\"]}** *{pin[\"Pin Name\"]}* **{pin[\"Port\"]}**'))"
   ]
  },
  {
   "cell_type": "markdown",
   "metadata": {},
   "source": [
    "### Now I'll look at differential pairs"
   ]
  },
  {
   "cell_type": "code",
   "execution_count": null,
   "metadata": {},
   "outputs": [],
   "source": [
    "display(Markdown(f'## Differential ports'))\n",
    "\n",
    "all_properly_paired = True\n",
    "\n",
    "for bank_name, pins in banks.items():\n",
    "    display(Markdown(f'### Bank {bank_name}, {bank_Vs[int(bank_name)]}V'))\n",
    "    display(Markdown('--------'))\n",
    "    \n",
    "    diff_pins = pins['differential_pins']\n",
    "    diff_pins = sorted(diff_pins, key=lambda x: x['Port'])\n",
    "    \n",
    "    # there must be an even number of differential pins\n",
    "    if len(diff_pins) % 2 != 0:\n",
    "        for pin in diff_pins:\n",
    "            display(Markdown(f'**{pin[\"Pin\"]}** *{pin[\"Pin Name\"]}* **{pin[\"Port\"]}**'))\n",
    "        raise RuntimeError('Odd number of differntial pins!')\n",
    "    \n",
    "    for pin_p, pin_n in zip(diff_pins[1::2], diff_pins[::2]):\n",
    "        p_name = pin_p['Pin Name']\n",
    "        n_name = pin_n['Pin Name']\n",
    "        \n",
    "        split_ind = p_name.find('P_')\n",
    "        \n",
    "        # check if the pins are properly paired\n",
    "        properly_paired = p_name[:split_ind] + 'N' == n_name[:split_ind+1]\n",
    "        \n",
    "        all_properly_paired &= properly_paired\n",
    "        \n",
    "        for pin in pin_p, pin_n:\n",
    "            display(Markdown(f'**{pin[\"Pin\"]}** *{pin[\"Pin Name\"]}* **{pin[\"Port\"]}**'))\n",
    "        \n",
    "        if properly_paired:\n",
    "            display(Markdown('properly paired differential signals'))\n",
    "        else:\n",
    "            display(Markdown('WARNING!!! Improperly paired differential signals'))\n",
    "            \n",
    "        display(Markdown('--------'))\n",
    "        \n",
    "print(f'All properly paired: {all_properly_paired}')"
   ]
  },
  {
   "cell_type": "markdown",
   "metadata": {},
   "source": [
    "### Isolate the DDR3 pins and print those "
   ]
  },
  {
   "cell_type": "code",
   "execution_count": null,
   "metadata": {},
   "outputs": [],
   "source": [
    "display(Markdown(f'## DDR3 Signals'))\n",
    "for bank_name, pins in banks.items():\n",
    "    all_pins = pins['single_ended_pins'] + pins['differential_pins']\n",
    "    DDR3_pins = [pin for pin in all_pins if pin['Port'].startswith('DDR3')]\n",
    "    \n",
    "    if not len(DDR3_pins):\n",
    "        continue\n",
    "    \n",
    "    display(Markdown(f'### Bank {bank_name}, {bank_Vs[int(bank_name)]}V'))\n",
    "    \n",
    "    for pin in DDR3_pins:        \n",
    "        display(Markdown(f'**{pin[\"Pin\"]}** *{pin[\"Pin Name\"]}* **{pin[\"Port\"]}**'))"
   ]
  },
  {
   "cell_type": "code",
   "execution_count": null,
   "metadata": {},
   "outputs": [],
   "source": []
  }
 ],
 "metadata": {
  "kernelspec": {
   "display_name": "Python 3",
   "language": "python",
   "name": "python3"
  },
  "language_info": {
   "codemirror_mode": {
    "name": "ipython",
    "version": 3
   },
   "file_extension": ".py",
   "mimetype": "text/x-python",
   "name": "python",
   "nbconvert_exporter": "python",
   "pygments_lexer": "ipython3",
   "version": "3.7.3"
  }
 },
 "nbformat": 4,
 "nbformat_minor": 4
}
